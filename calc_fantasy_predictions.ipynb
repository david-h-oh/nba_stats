{
 "cells": [
  {
   "cell_type": "code",
   "execution_count": 25,
   "metadata": {},
   "outputs": [],
   "source": [
    "import pandas as pd\n",
    "import numpy as np\n",
    "import os"
   ]
  },
  {
   "cell_type": "code",
   "execution_count": 35,
   "metadata": {},
   "outputs": [],
   "source": [
    "# Read in player roster for the given season\n",
    "current_season = '2023'\n",
    "\n",
    "df_players = pd.read_csv(f'./data/players_{current_season}.txt')\n",
    "df_players = df_players[['PLAYER_ID', 'PLAYER_NAME']]\n",
    "\n",
    "for season in ['2022', '2021', '2020']:\n",
    "    df_temp = pd.read_csv(f'./stats/per_game_stat_{season}.txt')\n",
    "    df_temp = df_temp[['PLAYER_ID', 'RANK_H2H_DNP_ADJUSTED', 'RANK_DNP_ADJUSTED', 'RANK_H2H_RAW', 'RANK_RAW', 'TOTAL_RAW', 'TOTAL_DNP_ADJUSTED', 'H2H_RAW_WIN_PCT', 'H2H_DNP_ADJUSTED_WIN_PCT']]\n",
    "    df_players = df_players.merge(df_temp, how='left', on=['PLAYER_ID'], suffixes=[None, f'_{season}'])\n",
    "\n",
    "df_players['RANK_H2H_DNP_ADJUSTED_2020'] = np.where(df_players['RANK_H2H_DNP_ADJUSTED_2020'].isnull(), 120, df_players['RANK_H2H_DNP_ADJUSTED_2020'])\n",
    "df_players['RANK_DNP_ADJUSTED_2020'] = np.where(df_players['RANK_DNP_ADJUSTED_2020'].isnull(), 120, df_players['RANK_DNP_ADJUSTED_2020'])\n",
    "df_players['RANK_H2H_RAW_2020'] = np.where(df_players['RANK_H2H_RAW_2020'].isnull(), 120, df_players['RANK_H2H_RAW_2020'])\n",
    "df_players['RANK_RAW_2020'] = np.where(df_players['RANK_RAW_2020'].isnull(), 120, df_players['RANK_RAW_2020'])\n",
    "\n",
    "df_players['RANK_H2H_DNP_ADJUSTED_2021'] = np.where(df_players['RANK_H2H_DNP_ADJUSTED_2021'].isnull(), df_players['RANK_H2H_DNP_ADJUSTED_2020'], df_players['RANK_H2H_DNP_ADJUSTED_2021'])\n",
    "df_players['RANK_DNP_ADJUSTED_2021'] = np.where(df_players['RANK_DNP_ADJUSTED_2021'].isnull(), df_players['RANK_DNP_ADJUSTED_2020'], df_players['RANK_DNP_ADJUSTED_2021'])\n",
    "df_players['RANK_H2H_RAW_2021'] = np.where(df_players['RANK_H2H_RAW_2021'].isnull(), df_players['RANK_H2H_RAW_2020'], df_players['RANK_H2H_RAW_2021'])\n",
    "df_players['RANK_RAW_2021'] = np.where(df_players['RANK_RAW_2021'].isnull(), df_players['RANK_RAW_2020'], df_players['RANK_RAW_2021'])\n",
    "\n",
    "df_players['RANK_H2H_DNP_ADJUSTED'] = np.where(df_players['RANK_H2H_DNP_ADJUSTED'].isnull(), df_players['RANK_H2H_DNP_ADJUSTED_2021'], df_players['RANK_H2H_DNP_ADJUSTED'])\n",
    "df_players['RANK_DNP_ADJUSTED'] = np.where(df_players['RANK_DNP_ADJUSTED'].isnull(), df_players['RANK_DNP_ADJUSTED_2021'], df_players['RANK_DNP_ADJUSTED'])\n",
    "df_players['RANK_H2H_RAW'] = np.where(df_players['RANK_H2H_RAW'].isnull(), df_players['RANK_H2H_RAW_2021'], df_players['RANK_H2H_RAW'])\n",
    "df_players['RANK_RAW'] = np.where(df_players['RANK_RAW'].isnull(), df_players['RANK_RAW_2021'], df_players['RANK_RAW'])\n",
    "\n",
    "df_players['RANK_PRED_SCORE'] = 0.5/4*(df_players['RANK_H2H_DNP_ADJUSTED'] + df_players['RANK_H2H_RAW'] + df_players['RANK_DNP_ADJUSTED'] + df_players['RANK_RAW']) + 0.3/4*(df_players['RANK_H2H_DNP_ADJUSTED'] + df_players['RANK_H2H_RAW'] + df_players['RANK_DNP_ADJUSTED'] + df_players['RANK_RAW']) + 0.2/4*(df_players['RANK_H2H_DNP_ADJUSTED'] + df_players['RANK_H2H_RAW'] + df_players['RANK_DNP_ADJUSTED'] + df_players['RANK_RAW']) \n",
    "df_players = df_players.sort_values(by='RANK_PRED_SCORE', ascending=True, ignore_index=True).reset_index()\n",
    "df_players = df_players.rename(columns={'index': 'RANK_PRED'})\n",
    "df_players['RANK_PRED'] += 1\n",
    "\n",
    "df_players = df_players[['PLAYER_ID', 'PLAYER_NAME', 'RANK_PRED'] + [col for col in df_players.columns if col.startswith('RANK_H2H_DNP_ADJUSTED')] + [col for col in df_players.columns if col.startswith('RANK_DNP_ADJUSTED')] + [col for col in df_players.columns if col.startswith('RANK_H2H_RAW')] + [col for col in df_players.columns if col.startswith('RANK_RAW')] + [col for col in df_players.columns if col.startswith('H2H')] + [col for col in df_players.columns if col.startswith('TOTAL')] + ['RANK_PRED_SCORE']]\n",
    "\n",
    "df_players.to_excel(f'./fantasy/fantasy_predicted_ranking_{current_season}.xlsx', index=False)\n"
   ]
  },
  {
   "cell_type": "code",
   "execution_count": 34,
   "metadata": {},
   "outputs": [],
   "source": [
    "# Practice rankings from previous seasons\n",
    "seasons = [str(s) for s in range(2006,2023)]\n",
    "\n",
    "for current_season in seasons:\n",
    "    df_players = pd.read_csv(f'./stats/per_game_stat_{current_season}.txt')\n",
    "    df_players = df_players[['PLAYER_ID', 'PLAYER_NAME', 'RANK_H2H_DNP_ADJUSTED', 'RANK_DNP_ADJUSTED', 'RANK_H2H_RAW', 'RANK_RAW']]\n",
    "\n",
    "    for season in reversed([str(s) for s in range(int(current_season)-3,int(current_season))]):\n",
    "        df_temp = pd.read_csv(f'./stats/per_game_stat_{season}.txt')\n",
    "        df_temp = df_temp[['PLAYER_ID', 'RANK_H2H_DNP_ADJUSTED', 'RANK_DNP_ADJUSTED', 'RANK_H2H_RAW', 'RANK_RAW', 'TOTAL_RAW', 'TOTAL_DNP_ADJUSTED', 'H2H_RAW_WIN_PCT', 'H2H_DNP_ADJUSTED_WIN_PCT']]\n",
    "        df_players = df_players.merge(df_temp, how='left', on=['PLAYER_ID'], suffixes=[None, f'_{season}'])\n",
    "\n",
    "    df_players[f'RANK_H2H_DNP_ADJUSTED_{int(current_season)-3}'] = np.where(df_players[f'RANK_H2H_DNP_ADJUSTED_{int(current_season)-3}'].isnull(), 120, df_players[f'RANK_H2H_DNP_ADJUSTED_{int(current_season)-3}'])\n",
    "    df_players[f'RANK_DNP_ADJUSTED_{int(current_season)-3}'] = np.where(df_players[f'RANK_DNP_ADJUSTED_{int(current_season)-3}'].isnull(), 120, df_players[f'RANK_DNP_ADJUSTED_{int(current_season)-3}'])\n",
    "    df_players[f'RANK_H2H_RAW_{int(current_season)-3}'] = np.where(df_players[f'RANK_H2H_RAW_{int(current_season)-3}'].isnull(), 120, df_players[f'RANK_H2H_RAW_{int(current_season)-3}'])\n",
    "    df_players[f'RANK_RAW_{int(current_season)-3}'] = np.where(df_players[f'RANK_RAW_{int(current_season)-3}'].isnull(), 120, df_players[f'RANK_RAW_{int(current_season)-3}'])\n",
    "\n",
    "    df_players[f'RANK_H2H_DNP_ADJUSTED_{int(current_season)-2}'] = np.where(df_players[f'RANK_H2H_DNP_ADJUSTED_{int(current_season)-2}'].isnull(), df_players[f'RANK_H2H_DNP_ADJUSTED_{int(current_season)-3}'], df_players[f'RANK_H2H_DNP_ADJUSTED_{int(current_season)-2}'])\n",
    "    df_players[f'RANK_DNP_ADJUSTED_{int(current_season)-2}'] = np.where(df_players[f'RANK_DNP_ADJUSTED_{int(current_season)-2}'].isnull(), df_players[f'RANK_DNP_ADJUSTED_{int(current_season)-3}'], df_players[f'RANK_DNP_ADJUSTED_{int(current_season)-2}'])\n",
    "    df_players[f'RANK_H2H_RAW_{int(current_season)-2}'] = np.where(df_players[f'RANK_H2H_RAW_{int(current_season)-2}'].isnull(), df_players[f'RANK_H2H_RAW_{int(current_season)-3}'], df_players[f'RANK_H2H_RAW_{int(current_season)-2}'])\n",
    "    df_players[f'RANK_RAW_{int(current_season)-2}'] = np.where(df_players[f'RANK_RAW_{int(current_season)-2}'].isnull(), df_players[f'RANK_RAW_{int(current_season)-3}'], df_players[f'RANK_RAW_{int(current_season)-2}'])\n",
    "\n",
    "    df_players[f'RANK_H2H_DNP_ADJUSTED_{int(current_season)-1}'] = np.where(df_players[f'RANK_H2H_DNP_ADJUSTED_{int(current_season)-1}'].isnull(), df_players[f'RANK_H2H_DNP_ADJUSTED_{int(current_season)-2}'], df_players[f'RANK_H2H_DNP_ADJUSTED_{int(current_season)-1}'])\n",
    "    df_players[f'RANK_DNP_ADJUSTED_{int(current_season)-1}'] = np.where(df_players[f'RANK_DNP_ADJUSTED_{int(current_season)-1}'].isnull(), df_players[f'RANK_DNP_ADJUSTED_{int(current_season)-2}'], df_players[f'RANK_DNP_ADJUSTED_{int(current_season)-1}'])\n",
    "    df_players[f'RANK_H2H_RAW_{int(current_season)-1}'] = np.where(df_players[f'RANK_H2H_RAW_{int(current_season)-1}'].isnull(), df_players[f'RANK_H2H_RAW_{int(current_season)-2}'], df_players[f'RANK_H2H_RAW_{int(current_season)-1}'])\n",
    "    df_players[f'RANK_RAW_{int(current_season)-1}'] = np.where(df_players[f'RANK_RAW_{int(current_season)-1}'].isnull(), df_players[f'RANK_RAW_{int(current_season)-2}'], df_players[f'RANK_RAW_{int(current_season)-1}'])\n",
    "\n",
    "    df_players['RANK_PRED_SCORE'] = 0.5/4*(df_players[f'RANK_H2H_DNP_ADJUSTED_{int(current_season)-1}'] + df_players[f'RANK_H2H_RAW_{int(current_season)-1}'] + df_players[f'RANK_DNP_ADJUSTED_{int(current_season)-1}'] + df_players[f'RANK_RAW_{int(current_season)-1}']) + 0.3/4*(df_players[f'RANK_H2H_DNP_ADJUSTED_{int(current_season)-2}'] + df_players[f'RANK_H2H_RAW_{int(current_season)-2}'] + df_players[f'RANK_DNP_ADJUSTED_{int(current_season)-2}'] + df_players[f'RANK_RAW_{int(current_season)-2}']) + 0.2/4*(df_players[f'RANK_H2H_DNP_ADJUSTED_{int(current_season)-3}'] + df_players[f'RANK_H2H_RAW_{int(current_season)-3}'] + df_players[f'RANK_DNP_ADJUSTED_{int(current_season)-3}'] + df_players[f'RANK_RAW_{int(current_season)-3}']) \n",
    "    df_players = df_players.sort_values(by='RANK_PRED_SCORE', ascending=True, ignore_index=True).reset_index()\n",
    "    df_players = df_players.rename(columns={'index': 'RANK_PRED'})\n",
    "    df_players['RANK_PRED'] += 1\n",
    "\n",
    "    df_players = df_players[['PLAYER_ID', 'PLAYER_NAME', 'RANK_PRED'] + [col for col in df_players.columns if col.startswith('RANK_H2H_DNP_ADJUSTED')] + [col for col in df_players.columns if col.startswith('RANK_DNP_ADJUSTED')] + [col for col in df_players.columns if col.startswith('RANK_H2H_RAW')] + [col for col in df_players.columns if col.startswith('RANK_RAW')] + [col for col in df_players.columns if col.startswith('H2H')] + [col for col in df_players.columns if col.startswith('TOTAL')] + ['RANK_PRED_SCORE']]\n",
    "    df_players.to_excel(f'./fantasy/fantasy_predicted_ranking_{current_season}.xlsx', index=False)"
   ]
  },
  {
   "cell_type": "code",
   "execution_count": null,
   "metadata": {},
   "outputs": [],
   "source": []
  }
 ],
 "metadata": {
  "kernelspec": {
   "display_name": "nba_stats",
   "language": "python",
   "name": "python3"
  },
  "language_info": {
   "codemirror_mode": {
    "name": "ipython",
    "version": 3
   },
   "file_extension": ".py",
   "mimetype": "text/x-python",
   "name": "python",
   "nbconvert_exporter": "python",
   "pygments_lexer": "ipython3",
   "version": "3.10.11"
  }
 },
 "nbformat": 4,
 "nbformat_minor": 2
}
