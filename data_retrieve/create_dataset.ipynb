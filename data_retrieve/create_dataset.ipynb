{
 "cells": [
  {
   "cell_type": "code",
   "execution_count": 1,
   "metadata": {},
   "outputs": [],
   "source": [
    "import pandas as pd\n",
    "import numpy as np\n",
    "import os\n",
    "import time\n",
    "from nba_api.stats.endpoints import playergamelogs, playerindex\n",
    "\n",
    "os.chdir('..')"
   ]
  },
  {
   "cell_type": "code",
   "execution_count": 2,
   "metadata": {},
   "outputs": [],
   "source": [
    "# constants\n",
    "game_log_fields = ['SEASON_YEAR', 'PLAYER_ID', 'PLAYER_NAME', 'TEAM_ID', 'TEAM_ABBREVIATION', 'TEAM_NAME', 'GAME_ID', 'GAME_DATE', 'MATCHUP', 'WL', 'MIN', 'FGM', 'FGA', 'FG_PCT', 'FG3M', 'FG3A', 'FG3_PCT', 'FTM', 'FTA', 'FT_PCT', 'OREB', 'DREB', 'REB', 'AST', 'TOV', 'STL', 'BLK', 'BLKA', 'PF', 'PTS', 'PLUS_MINUS', 'NBA_FANTASY_PTS']\n",
    "latest_season = '2023-24'\n",
    "seasons = [str(list(np.array(latest_season.split('-'), dtype=int)-i)[0])+'-'+str(list(np.array(latest_season.split('-'), dtype=int)-i)[1]).zfill(2) for i in range(0,20)]\n",
    "season_types = ['Regular Season']"
   ]
  },
  {
   "cell_type": "code",
   "execution_count": 3,
   "metadata": {},
   "outputs": [],
   "source": [
    "def get_player_game_logs(seasons:'list', season_types:'list'=['Regular Season', 'Pre Season'], game_log_fields:'list'=['SEASON_YEAR', 'PLAYER_ID', 'PLAYER_NAME', 'TEAM_ID', 'TEAM_ABBREVIATION', 'TEAM_NAME', 'GAME_ID', 'GAME_DATE', 'MATCHUP', 'WL', 'MIN', 'FGM', 'FGA', 'FG_PCT', 'FG3M', 'FG3A', 'FG3_PCT', 'FTM', 'FTA', 'FT_PCT', 'OREB', 'DREB', 'REB', 'AST', 'TOV', 'STL', 'BLK', 'BLKA', 'PF', 'PTS', 'PLUS_MINUS', 'NBA_FANTASY_PTS']):\n",
    "    for season in seasons:\n",
    "        for season_type in season_types:\n",
    "            gamelog = playergamelogs.PlayerGameLogs(season_nullable=season, season_type_nullable=season_type)\n",
    "            player_gamelog = gamelog.get_data_frames()[0]\n",
    "            print(f'Requesting: Season ({season}), Type ({season_type})')\n",
    "            # Limiting the fields\n",
    "            player_gamelog = player_gamelog[game_log_fields]\n",
    "\n",
    "            player_gamelog.to_csv(f'./data/gamelogs_{season[:4]}_{season_type[:3]}.txt', index=False)\n",
    "\n",
    "            time.sleep(30)  "
   ]
  },
  {
   "cell_type": "code",
   "execution_count": 4,
   "metadata": {},
   "outputs": [
    {
     "name": "stdout",
     "output_type": "stream",
     "text": [
      "Requesting: Season (2023-24), Type (Regular Season)\n",
      "Requesting: Season (2022-23), Type (Regular Season)\n",
      "Requesting: Season (2021-22), Type (Regular Season)\n",
      "Requesting: Season (2020-21), Type (Regular Season)\n",
      "Requesting: Season (2019-20), Type (Regular Season)\n",
      "Requesting: Season (2018-19), Type (Regular Season)\n",
      "Requesting: Season (2017-18), Type (Regular Season)\n",
      "Requesting: Season (2016-17), Type (Regular Season)\n",
      "Requesting: Season (2015-16), Type (Regular Season)\n",
      "Requesting: Season (2014-15), Type (Regular Season)\n",
      "Requesting: Season (2013-14), Type (Regular Season)\n",
      "Requesting: Season (2012-13), Type (Regular Season)\n",
      "Requesting: Season (2011-12), Type (Regular Season)\n",
      "Requesting: Season (2010-11), Type (Regular Season)\n",
      "Requesting: Season (2009-10), Type (Regular Season)\n",
      "Requesting: Season (2008-09), Type (Regular Season)\n",
      "Requesting: Season (2007-08), Type (Regular Season)\n",
      "Requesting: Season (2006-07), Type (Regular Season)\n",
      "Requesting: Season (2005-06), Type (Regular Season)\n",
      "Requesting: Season (2004-05), Type (Regular Season)\n"
     ]
    }
   ],
   "source": [
    "get_player_game_logs(seasons=seasons, season_types=season_types)"
   ]
  },
  {
   "cell_type": "code",
   "execution_count": 5,
   "metadata": {},
   "outputs": [
    {
     "name": "stdout",
     "output_type": "stream",
     "text": [
      "Requesting: Season (2024-25)\n"
     ]
    }
   ],
   "source": [
    "# constants\n",
    "player_fields = ['PLAYER_ID', 'PLAYER_NAME', 'TEAM_ID', 'TEAM_ABBREVIATION', 'TEAM_NAME', 'POSITION', 'DRAFT_YEAR', 'DRAFT_ROUND']\n",
    "current_season = '2024-25'\n",
    "\n",
    "players = playerindex.PlayerIndex(season=current_season, league_id='00')\n",
    "df_players = players.get_data_frames()[0]\n",
    "print(f'Requesting: Season ({current_season})')\n",
    "\n",
    "# Limiting the fields\n",
    "df_players['PLAYER_ID'] = df_players['PERSON_ID']\n",
    "df_players['PLAYER_NAME'] = df_players['PLAYER_FIRST_NAME'] + ' ' + df_players['PLAYER_LAST_NAME']\n",
    "df_players = df_players[player_fields]\n",
    "\n",
    "\n",
    "df_players.to_csv(f'./data/players_{current_season[:4]}.txt', index=False)"
   ]
  },
  {
   "cell_type": "code",
   "execution_count": null,
   "metadata": {},
   "outputs": [],
   "source": []
  }
 ],
 "metadata": {
  "kernelspec": {
   "display_name": "nba_stats",
   "language": "python",
   "name": "python3"
  },
  "language_info": {
   "codemirror_mode": {
    "name": "ipython",
    "version": 3
   },
   "file_extension": ".py",
   "mimetype": "text/x-python",
   "name": "python",
   "nbconvert_exporter": "python",
   "pygments_lexer": "ipython3",
   "version": "3.10.11"
  },
  "orig_nbformat": 4
 },
 "nbformat": 4,
 "nbformat_minor": 2
}
